{
 "cells": [
  {
   "cell_type": "code",
   "execution_count": 10,
   "id": "b64c2de9",
   "metadata": {},
   "outputs": [],
   "source": [
    "# libraries\n",
    "import gc\n",
    "import os\n",
    "import re\n",
    "\n",
    "gc.collect()\n",
    "\n",
    "file_out = open('genom_headings.txt', 'w')\n",
    "csv_out = open('genom_headings.csv', 'w')\n",
    "csv2_out = open('genom_variables.csv', 'w')\n",
    "\n",
    "csv_out.write('year, month, num_columns, batch\\n')\n",
    "csv2_out.write('year, month, new_column\\n')\n",
    "\n",
    "# input data\n",
    "files_in = [f for f in os.listdir('files') if f.endswith('.csv')]\n",
    "\n",
    "file_date = re.compile('\\d{8}')\n",
    "\n",
    "file_headings = []\n",
    "\n",
    "for file in files_in:\n",
    "    report_date = file_date.findall(file)\n",
    "    file = open('files/'+ file)\n",
    "    file_line = list(file.readline().split(','))\n",
    "    file_headings.append([report_date[0], file_line])\n",
    "    headings = sorted(file_headings, key=lambda x:x[0])\n",
    "\n",
    "head_set = {}\n",
    "batch = 0\n",
    "batch_lines = 0\n",
    "for line in headings:\n",
    "    colnames = (',').join(line[1])       \n",
    "    num_lines = len(line[1])\n",
    "    num_lines2 = str(len(line[1]))\n",
    "    string = 'date: '+ line[0] + ' number: ' + num_lines2 +' headings: '+ colnames + '\\n'\n",
    "    file_out.write(string)\n",
    "    year = line[0][:4]\n",
    "    month = line[0][4:6]\n",
    "    # find new cols\n",
    "    col_set = set(list(line[1]))\n",
    "    difference = col_set.difference(head_set)\n",
    "    if(len(difference) >= 1): # all headings are not equal\n",
    "        #  print new cols and the date  \n",
    "        for var in difference:\n",
    "            var_name = var\n",
    "            csv2_out.write(year +',' + month +','+ var_name+'\\n')\n",
    "        head_set = col_set\n",
    "    if(num_lines > batch_lines):\n",
    "        batch += 1\n",
    "        batch_lines = num_lines\n",
    "    csv_out.write(year +','+ month +','+ num_lines2 +','+ str(batch) +'\\n')\n",
    "\n",
    "file_out.close()\n",
    "csv_out.close()\n",
    "csv2_out.close()"
   ]
  },
  {
   "cell_type": "code",
   "execution_count": null,
   "id": "df17f2e2",
   "metadata": {},
   "outputs": [],
   "source": []
  }
 ],
 "metadata": {
  "kernelspec": {
   "display_name": "Python 3.9 (Default)",
   "language": "python",
   "name": "python3"
  },
  "language_info": {
   "codemirror_mode": {
    "name": "ipython",
    "version": 3
   },
   "file_extension": ".py",
   "mimetype": "text/x-python",
   "name": "python",
   "nbconvert_exporter": "python",
   "pygments_lexer": "ipython3",
   "version": "3.9.7"
  }
 },
 "nbformat": 4,
 "nbformat_minor": 5
}
